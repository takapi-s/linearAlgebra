{
 "cells": [
  {
   "cell_type": "code",
   "execution_count": null,
   "metadata": {},
   "outputs": [],
   "source": [
    "import numpy as np\n",
    "import time\n",
    "from scipy import linalg\n",
    "import matplotlib.pyplot as plt\n",
    "import pandas as pd\n"
   ]
  },
  {
   "cell_type": "code",
   "execution_count": null,
   "metadata": {},
   "outputs": [],
   "source": [
    "#あとで行列式の関数を作成\n",
    "#教科書p49\n",
    "matrix = np.array([[2,3,0],\n",
    "                   [0,2,1],\n",
    "                   [5,-4,-4]\n",
    "                   ])\n",
    "determinant = linalg.det(matrix)#行列式計算\n",
    "\n",
    "def determinant(matrix):\n",
    "    N = matrix.shape[0]\n",
    "    #N次元の行列式を計算\n",
    "    \n"
   ]
  },
  {
   "cell_type": "code",
   "execution_count": null,
   "metadata": {},
   "outputs": [],
   "source": [
    "#あとで連立方程式の関数を作成\n",
    "#教科書p26\n",
    "left_side = np.array([[0,2,-2],\n",
    "                      [1,-2,3],\n",
    "                      [3,-8,6]\n",
    "                      ])\n",
    "\n",
    "right_side = np.array([-4,2,0])\n",
    "\n",
    "solver = np.linalg.solve(left_side, right_side)\n",
    "print(solver)\n"
   ]
  },
  {
   "cell_type": "code",
   "execution_count": null,
   "metadata": {},
   "outputs": [],
   "source": [
    "#あとで固有値、固有ベクトルの関数を作成\n",
    "matrix = np.array([[1,0,-1],\n",
    "                   [1,2,1],\n",
    "                   [2,2,3]\n",
    "                   ])\n",
    "w, v = np.linalg.eig(matrix)\n",
    "print(w)\n",
    "print(v)"
   ]
  },
  {
   "cell_type": "code",
   "execution_count": null,
   "metadata": {},
   "outputs": [],
   "source": [
    "\n"
   ]
  },
  {
   "cell_type": "code",
   "execution_count": null,
   "metadata": {},
   "outputs": [],
   "source": [
    "\n",
    "#1次から1000次の正方行列を生成してリスト化\n",
    "matrix_list = []\n",
    "right_side_list = []\n",
    "for size in range(100,501):\n",
    "    matrix = np.random.randint(-10,10 , size = (size, size))\n",
    "    matrix_list.append(matrix)\n",
    "    right_side = np.random.randint(-10, 10, size = size)\n",
    "    right_side_list.append(right_side)\n",
    "\n",
    "#1次から1000次の連立方程式を生成してリスト\n",
    "left_side_list = matrix_list\n"
   ]
  },
  {
   "cell_type": "code",
   "execution_count": null,
   "metadata": {},
   "outputs": [],
   "source": [
    "#計算回数\n",
    "TIMES = 10"
   ]
  },
  {
   "cell_type": "code",
   "execution_count": null,
   "metadata": {},
   "outputs": [],
   "source": [
    "\n",
    "#複数回計算を回してその分散を見る\n",
    "#計算時間はデスクトップだと１時間30分\n",
    "#ノートではやめとけ\n",
    "determinant_time_df = pd.DataFrame()\n",
    "for i in range(TIMES):\n",
    "    #リストをforループで回し行列式の計算\n",
    "    determinant_time_list = []#計算時間のリスト\n",
    "    determinant_list = []\n",
    "    for i, matrix in enumerate(matrix_list):\n",
    "        start_time = time.time() \n",
    "        determinant = linalg.det(matrix)#行列式計算\n",
    "        determinant_list.append(determinant)\n",
    "        end_time = time.time()\n",
    "        diff_time = end_time - start_time\n",
    "        determinant_time_list.append(diff_time)\n",
    "        determinant_time_df = pd.concat([determinant_time_df,pd.Series(determinant_time_list)], axis=1)\n"
   ]
  },
  {
   "cell_type": "code",
   "execution_count": null,
   "metadata": {},
   "outputs": [],
   "source": [
    "\n",
    "\n",
    "solver_time_df = pd.DataFrame()\n",
    "for i in range(TIMES):\n",
    "    #連立方程式の計算\n",
    "    solver_time_list = []\n",
    "    solver_list = []\n",
    "    for left_side, right_side in zip(left_side_list, right_side_list):\n",
    "        start_time = time.time() \n",
    "        solver = np.linalg.solve(left_side, right_side)\n",
    "        solver_list.append(solver)\n",
    "        end_time = time.time() \n",
    "        diff_time = end_time - start_time\n",
    "        solver_time_list.append(diff_time)\n",
    "        solver_time_df = pd.concat([solver_time_df,pd.Series(solver_time_list)], axis=1)\n",
    "\n",
    "    "
   ]
  },
  {
   "cell_type": "code",
   "execution_count": null,
   "metadata": {},
   "outputs": [],
   "source": [
    "eig_time_df = pd.DataFrame()\n",
    "for i in range(TIMES):\n",
    "    #連立方程式の計算\n",
    "    eig_time_list = []\n",
    "    eig_list = []\n",
    "    for matrix in matrix_list:\n",
    "        start_time = time.time() \n",
    "        eig = np.linalg.eig(matrix)\n",
    "        eig_list.append(eig)\n",
    "        end_time = time.time() \n",
    "        diff_time = end_time - start_time\n",
    "        eig_time_list.append(diff_time)\n",
    "        eig_time_df = pd.concat([eig_time_df,pd.Series(eig_time_list)], axis=1)"
   ]
  },
  {
   "cell_type": "code",
   "execution_count": null,
   "metadata": {},
   "outputs": [],
   "source": [
    "determinant_time_df"
   ]
  },
  {
   "cell_type": "code",
   "execution_count": null,
   "metadata": {},
   "outputs": [],
   "source": [
    "solver_time_df"
   ]
  },
  {
   "cell_type": "code",
   "execution_count": null,
   "metadata": {},
   "outputs": [],
   "source": [
    "eig_time_df"
   ]
  },
  {
   "cell_type": "code",
   "execution_count": null,
   "metadata": {},
   "outputs": [],
   "source": []
  }
 ],
 "metadata": {
  "kernelspec": {
   "display_name": "Python 3",
   "language": "python",
   "name": "python3"
  },
  "language_info": {
   "codemirror_mode": {
    "name": "ipython",
    "version": 3
   },
   "file_extension": ".py",
   "mimetype": "text/x-python",
   "name": "python",
   "nbconvert_exporter": "python",
   "pygments_lexer": "ipython3",
   "version": "3.10.11"
  }
 },
 "nbformat": 4,
 "nbformat_minor": 2
}

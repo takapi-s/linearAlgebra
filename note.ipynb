{
 "cells": [
  {
   "cell_type": "code",
   "execution_count": null,
   "metadata": {},
   "outputs": [],
   "source": [
    "import numpy as np\n",
    "import time\n",
    "from scipy import linalg\n",
    "import matplotlib.pyplot as plt\n",
    "import pandas as pd\n"
   ]
  },
  {
   "cell_type": "code",
   "execution_count": 14,
   "metadata": {},
   "outputs": [
    {
     "name": "stdout",
     "output_type": "stream",
     "text": [
      "Package                      Version     Latest      TypeNote: you may need to restart the kernel to use updated packages.\n"
     ]
    },
    {
     "name": "stderr",
     "output_type": "stream",
     "text": [
      "\n",
      "[notice] A new release of pip is available: 23.0 -> 24.0\n",
      "[notice] To update, run: C:\\Users\\pocky\\AppData\\Local\\Microsoft\\WindowsApps\\PythonSoftwareFoundation.Python.3.10_qbz5n2kfra8p0\\python.exe -m pip install --upgrade pip\n"
     ]
    },
    {
     "name": "stdout",
     "output_type": "stream",
     "text": [
      "\n",
      "---------------------------- ----------- ----------- -----\n",
      "absl-py                      1.4.0       2.1.0       wheel\n",
      "alembic                      1.9.3       1.13.1      wheel\n",
      "anyio                        3.6.2       4.3.0       wheel\n",
      "argon2-cffi                  21.3.0      23.1.0      wheel\n",
      "arrow                        1.2.3       1.3.0       wheel\n",
      "asttokens                    2.2.1       2.4.1       wheel\n",
      "attrs                        22.2.0      23.2.0      wheel\n",
      "beautifulsoup4               4.11.2      4.12.3      wheel\n",
      "bleach                       6.0.0       6.1.0       wheel\n",
      "brainflow                    4.0.2       5.12.1      wheel\n",
      "cachetools                   5.3.0       5.3.3       wheel\n",
      "certifi                      2022.12.7   2024.2.2    wheel\n",
      "cffi                         1.15.1      1.16.0      wheel\n",
      "charset-normalizer           3.0.1       3.3.2       wheel\n",
      "click                        8.1.3       8.1.7       wheel\n",
      "cmaes                        0.9.1       0.10.0      wheel\n",
      "colorlog                     6.7.0       6.8.2       wheel\n",
      "comm                         0.1.2       0.2.2       wheel\n",
      "contourpy                    1.0.6       1.2.1       wheel\n",
      "cycler                       0.11.0      0.12.1      wheel\n",
      "debugpy                      1.6.4       1.8.1       wheel\n",
      "dtreeviz                     2.1.4       2.2.2       wheel\n",
      "exceptiongroup               1.1.0       1.2.0       wheel\n",
      "executing                    1.2.0       2.0.1       wheel\n",
      "fastjsonschema               2.16.2      2.19.1      wheel\n",
      "flatbuffers                  23.1.21     24.3.25     wheel\n",
      "fonttools                    4.38.0      4.51.0      wheel\n",
      "gast                         0.4.0       0.5.4       wheel\n",
      "GitPython                    3.1.42      3.1.43      wheel\n",
      "google-auth                  2.16.0      2.29.0      wheel\n",
      "google-auth-oauthlib         0.4.6       1.2.0       wheel\n",
      "graphviz                     0.20.1      0.20.3      wheel\n",
      "greenlet                     2.0.2       3.0.3       wheel\n",
      "grpcio                       1.51.1      1.62.1      wheel\n",
      "h5py                         3.8.0       3.11.0      wheel\n",
      "idna                         3.4         3.7         wheel\n",
      "imbalanced-learn             0.11.0      0.12.2      wheel\n",
      "ipykernel                    6.19.4      6.29.4      wheel\n",
      "ipython                      8.7.0       8.23.0      wheel\n",
      "ipywidgets                   8.0.4       8.1.2       wheel\n",
      "jedi                         0.18.2      0.19.1      wheel\n",
      "Jinja2                       3.1.2       3.1.3       wheel\n",
      "joblib                       1.2.0       1.4.0       wheel\n",
      "jsonpointer                  2.3         2.4         wheel\n",
      "jsonschema                   4.17.3      4.21.1      wheel\n",
      "jupyter_client               7.4.8       8.6.1       wheel\n",
      "jupyter-console              6.5.0       6.6.3       wheel\n",
      "jupyter_core                 5.1.0       5.7.2       wheel\n",
      "jupyter-events               0.6.3       0.10.0      wheel\n",
      "jupyter_server               2.2.1       2.14.0      wheel\n",
      "jupyter_server_terminals     0.4.4       0.5.3       wheel\n",
      "jupyterlab-pygments          0.2.2       0.3.0       wheel\n",
      "jupyterlab-widgets           3.0.5       3.0.10      wheel\n",
      "keras                        2.11.0      3.2.1       wheel\n",
      "kiwisolver                   1.4.4       1.4.5       wheel\n",
      "libclang                     15.0.6.1    18.1.1      wheel\n",
      "llvmlite                     0.40.1      0.42.0      wheel\n",
      "Mako                         1.2.4       1.3.3       wheel\n",
      "Markdown                     3.4.1       3.6         wheel\n",
      "MarkupSafe                   2.1.2       2.1.5       wheel\n",
      "matplotlib                   3.7.1       3.8.4       wheel\n",
      "matplotlib-inline            0.1.6       0.1.7       wheel\n",
      "mistune                      2.0.5       3.0.2       wheel\n",
      "nbclassic                    0.5.1       1.0.0       wheel\n",
      "nbclient                     0.7.2       0.10.0      wheel\n",
      "nbconvert                    7.2.9       7.16.3      wheel\n",
      "nbformat                     5.7.3       5.10.4      wheel\n",
      "nest-asyncio                 1.5.6       1.6.0       wheel\n",
      "notebook                     6.5.2       7.1.3       wheel\n",
      "notebook_shim                0.2.2       0.2.4       wheel\n",
      "numba                        0.57.1      0.59.1      wheel\n",
      "numpy                        1.23.5      1.26.4      wheel\n",
      "opencv-contrib-python        4.6.0.66    4.9.0.80    wheel\n",
      "optuna                       3.1.0       3.6.1       wheel\n",
      "packaging                    21.3        24.0        wheel\n",
      "pandas                       1.5.2       2.2.2       wheel\n",
      "pandocfilters                1.5.0       1.5.1       wheel\n",
      "parso                        0.8.3       0.8.4       wheel\n",
      "Pillow                       9.3.0       10.3.0      wheel\n",
      "pip                          23.0        24.0        wheel\n",
      "platformdirs                 2.6.0       4.2.0       wheel\n",
      "plotly                       5.13.0      5.21.0      wheel\n",
      "pluggy                       1.0.0       1.4.0       wheel\n",
      "prometheus-client            0.16.0      0.20.0      wheel\n",
      "prompt-toolkit               3.0.36      3.0.43      wheel\n",
      "protobuf                     3.19.6      5.26.1      wheel\n",
      "psutil                       5.9.4       5.9.8       wheel\n",
      "pyasn1                       0.4.8       0.6.0       wheel\n",
      "pyasn1-modules               0.2.8       0.4.0       wheel\n",
      "pycparser                    2.21        2.22        wheel\n",
      "Pygments                     2.13.0      2.17.2      wheel\n",
      "pynndescent                  0.5.10      0.5.12      wheel\n",
      "pyparsing                    3.0.9       3.1.2       wheel\n",
      "pyrsistent                   0.19.3      0.20.0      wheel\n",
      "pytest                       7.2.1       8.1.1       wheel\n",
      "python-dateutil              2.8.2       2.9.0.post0 wheel\n",
      "python-json-logger           2.0.5       2.0.7       wheel\n",
      "pytz                         2022.6      2024.1      wheel\n",
      "PyWavelets                   1.4.1       1.6.0       wheel\n",
      "pywin32                      305         306         wheel\n",
      "pywinpty                     2.0.10      2.0.13      wheel\n",
      "PyYAML                       6.0         6.0.1       wheel\n",
      "pyzmq                        24.0.1      26.0.0      wheel\n",
      "qtconsole                    5.4.0       5.5.1       wheel\n",
      "QtPy                         2.3.0       2.4.1       wheel\n",
      "requests                     2.28.2      2.31.0      wheel\n",
      "requests-oauthlib            1.3.1       2.0.0       wheel\n",
      "scikit-learn                 1.2.0       1.4.2       wheel\n",
      "scipy                        1.9.3       1.13.0      wheel\n",
      "seaborn                      0.12.2      0.13.2      wheel\n",
      "Send2Trash                   1.8.0       1.8.3       wheel\n",
      "sklearn                      0.0.post1   0.0.post12  sdist\n",
      "sniffio                      1.3.0       1.3.1       wheel\n",
      "soupsieve                    2.3.2.post1 2.5         wheel\n",
      "SQLAlchemy                   2.0.3       2.0.29      wheel\n",
      "stack-data                   0.6.2       0.6.3       wheel\n",
      "tenacity                     8.2.1       8.2.3       wheel\n",
      "tensorboard                  2.11.2      2.16.2      wheel\n",
      "tensorboard-data-server      0.6.1       0.7.2       wheel\n",
      "tensorflow                   2.11.0      2.16.1      wheel\n",
      "tensorflow-estimator         2.11.0      2.15.0      wheel\n",
      "tensorflow-intel             2.11.0      2.16.1      wheel\n",
      "tensorflow-io-gcs-filesystem 0.30.0      0.31.0      wheel\n",
      "termcolor                    2.2.0       2.4.0       wheel\n",
      "terminado                    0.17.1      0.18.1      wheel\n",
      "threadpoolctl                3.1.0       3.4.0       wheel\n",
      "tornado                      6.2         6.4         wheel\n",
      "tqdm                         4.64.1      4.66.2      wheel\n",
      "traitlets                    5.8.0       5.14.2      wheel\n",
      "typing_extensions            4.4.0       4.11.0      wheel\n",
      "umap-learn                   0.5.3       0.5.6       wheel\n",
      "uri-template                 1.2.0       1.3.0       wheel\n",
      "urllib3                      1.26.14     2.2.1       wheel\n",
      "wcwidth                      0.2.5       0.2.13      wheel\n",
      "webcolors                    1.12        1.13        wheel\n",
      "websocket-client             1.5.1       1.7.0       wheel\n",
      "Werkzeug                     2.2.2       3.0.2       wheel\n",
      "wheel                        0.38.4      0.43.0      wheel\n",
      "widgetsnbextension           4.0.5       4.0.10      wheel\n",
      "wrapt                        1.14.1      1.16.0      wheel\n",
      "xgboost                      1.7.3       2.0.3       wheel\n"
     ]
    }
   ],
   "source": [
    "pip list -o\n"
   ]
  },
  {
   "cell_type": "code",
   "execution_count": 16,
   "metadata": {},
   "outputs": [
    {
     "name": "stdout",
     "output_type": "stream",
     "text": [
      "Note: you may need to restart the kernel to use updated packages.\n"
     ]
    },
    {
     "name": "stderr",
     "output_type": "stream",
     "text": [
      "ERROR: Could not find a version that satisfies the requirement cupy-124 (from versions: none)\n",
      "ERROR: No matching distribution found for cupy-124\n"
     ]
    }
   ],
   "source": [
    "pip install cupy-124"
   ]
  },
  {
   "cell_type": "code",
   "execution_count": 9,
   "metadata": {},
   "outputs": [
    {
     "name": "stdout",
     "output_type": "stream",
     "text": [
      "Note: you may need to restart the kernel to use updated packages.\n"
     ]
    },
    {
     "name": "stderr",
     "output_type": "stream",
     "text": [
      "ERROR: Could not find a version that satisfies the requirement cupy-cuda124 (from versions: none)\n",
      "ERROR: No matching distribution found for cupy-cuda124\n",
      "\n",
      "[notice] A new release of pip is available: 23.0 -> 24.0\n",
      "[notice] To update, run: C:\\Users\\pocky\\AppData\\Local\\Microsoft\\WindowsApps\\PythonSoftwareFoundation.Python.3.10_qbz5n2kfra8p0\\python.exe -m pip install --upgrade pip\n"
     ]
    }
   ],
   "source": [
    "pip install cupy-cuda124"
   ]
  },
  {
   "cell_type": "code",
   "execution_count": null,
   "metadata": {},
   "outputs": [],
   "source": [
    "#あとで行列式の関数を作成\n",
    "#教科書p49\n",
    "matrix = np.array([[2,3,0],\n",
    "                   [0,2,1],\n",
    "                   [5,-4,-4]\n",
    "                   ])\n",
    "determinant = linalg.det(matrix)#行列式計算\n",
    "\n",
    "def determinant(matrix):\n",
    "    N = matrix.shape[0]\n",
    "    #N次元の行列式を計算\n",
    "    \n"
   ]
  },
  {
   "cell_type": "code",
   "execution_count": null,
   "metadata": {},
   "outputs": [],
   "source": [
    "#あとで連立方程式の関数を作成\n",
    "#教科書p26\n",
    "left_side = np.array([[0,2,-2],\n",
    "                      [1,-2,3],\n",
    "                      [3,-8,6]\n",
    "                      ])\n",
    "\n",
    "right_side = np.array([-4,2,0])\n",
    "\n",
    "solver = np.linalg.solve(left_side, right_side)\n",
    "print(solver)\n"
   ]
  },
  {
   "cell_type": "code",
   "execution_count": null,
   "metadata": {},
   "outputs": [],
   "source": [
    "#あとで固有値、固有ベクトルの関数を作成\n",
    "matrix = np.array([[1,0,-1],\n",
    "                   [1,2,1],\n",
    "                   [2,2,3]\n",
    "                   ])\n",
    "w, v = np.linalg.eig(matrix)\n",
    "print(w)\n",
    "print(v)"
   ]
  },
  {
   "cell_type": "code",
   "execution_count": null,
   "metadata": {},
   "outputs": [],
   "source": [
    "\n"
   ]
  },
  {
   "cell_type": "code",
   "execution_count": null,
   "metadata": {},
   "outputs": [],
   "source": [
    "\n",
    "#1次から1000次の正方行列を生成してリスト化\n",
    "matrix_list = []\n",
    "right_side_list = []\n",
    "for size in range(100,501):\n",
    "    matrix = np.random.randint(-10,10 , size = (size, size))\n",
    "    matrix_list.append(matrix)\n",
    "    right_side = np.random.randint(-10, 10, size = size)\n",
    "    right_side_list.append(right_side)\n",
    "\n",
    "#1次から1000次の連立方程式を生成してリスト\n",
    "left_side_list = matrix_list\n"
   ]
  },
  {
   "cell_type": "code",
   "execution_count": null,
   "metadata": {},
   "outputs": [],
   "source": [
    "#計算回数\n",
    "TIMES = 10"
   ]
  },
  {
   "cell_type": "code",
   "execution_count": null,
   "metadata": {},
   "outputs": [],
   "source": [
    "\n",
    "#複数回計算を回してその分散を見る\n",
    "#計算時間はデスクトップだと１時間30分\n",
    "#ノートではやめとけ\n",
    "determinant_time_df = pd.DataFrame()\n",
    "for i in range(TIMES):\n",
    "    #リストをforループで回し行列式の計算\n",
    "    determinant_time_list = []#計算時間のリスト\n",
    "    determinant_list = []\n",
    "    for i, matrix in enumerate(matrix_list):\n",
    "        start_time = time.time() \n",
    "        determinant = linalg.det(matrix)#行列式計算\n",
    "        determinant_list.append(determinant)\n",
    "        end_time = time.time()\n",
    "        diff_time = end_time - start_time\n",
    "        determinant_time_list.append(diff_time)\n",
    "        determinant_time_df = pd.concat([determinant_time_df,pd.Series(determinant_time_list)], axis=1)\n"
   ]
  },
  {
   "cell_type": "code",
   "execution_count": null,
   "metadata": {},
   "outputs": [],
   "source": [
    "\n",
    "\n",
    "solver_time_df = pd.DataFrame()\n",
    "for i in range(TIMES):\n",
    "    #連立方程式の計算\n",
    "    solver_time_list = []\n",
    "    solver_list = []\n",
    "    for left_side, right_side in zip(left_side_list, right_side_list):\n",
    "        start_time = time.time() \n",
    "        solver = np.linalg.solve(left_side, right_side)\n",
    "        solver_list.append(solver)\n",
    "        end_time = time.time() \n",
    "        diff_time = end_time - start_time\n",
    "        solver_time_list.append(diff_time)\n",
    "        solver_time_df = pd.concat([solver_time_df,pd.Series(solver_time_list)], axis=1)\n",
    "\n",
    "    "
   ]
  },
  {
   "cell_type": "code",
   "execution_count": null,
   "metadata": {},
   "outputs": [],
   "source": [
    "eig_time_df = pd.DataFrame()\n",
    "for i in range(TIMES):\n",
    "    #連立方程式の計算\n",
    "    eig_time_list = []\n",
    "    eig_list = []\n",
    "    for matrix in matrix_list:\n",
    "        start_time = time.time() \n",
    "        eig = np.linalg.eig(matrix)\n",
    "        eig_list.append(eig)\n",
    "        end_time = time.time() \n",
    "        diff_time = end_time - start_time\n",
    "        eig_time_list.append(diff_time)\n",
    "        eig_time_df = pd.concat([eig_time_df,pd.Series(eig_time_list)], axis=1)"
   ]
  },
  {
   "cell_type": "code",
   "execution_count": null,
   "metadata": {},
   "outputs": [],
   "source": [
    "determinant_time_df"
   ]
  },
  {
   "cell_type": "code",
   "execution_count": null,
   "metadata": {},
   "outputs": [],
   "source": [
    "solver_time_df"
   ]
  },
  {
   "cell_type": "code",
   "execution_count": null,
   "metadata": {},
   "outputs": [],
   "source": [
    "eig_time_df"
   ]
  },
  {
   "cell_type": "code",
   "execution_count": null,
   "metadata": {},
   "outputs": [],
   "source": []
  }
 ],
 "metadata": {
  "kernelspec": {
   "display_name": "Python 3",
   "language": "python",
   "name": "python3"
  },
  "language_info": {
   "codemirror_mode": {
    "name": "ipython",
    "version": 3
   },
   "file_extension": ".py",
   "mimetype": "text/x-python",
   "name": "python",
   "nbconvert_exporter": "python",
   "pygments_lexer": "ipython3",
   "version": "3.10.11"
  }
 },
 "nbformat": 4,
 "nbformat_minor": 2
}
